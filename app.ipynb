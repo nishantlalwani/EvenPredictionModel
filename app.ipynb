{
 "cells": [
  {
   "cell_type": "code",
   "execution_count": 13,
   "metadata": {},
   "outputs": [],
   "source": [
    "# Importing essential libraries\n",
    "from flask import Flask, render_template, request\n",
    "import pickle\n",
    "import numpy as np\n",
    "import pandas as pd"
   ]
  },
  {
   "cell_type": "code",
   "execution_count": 15,
   "metadata": {},
   "outputs": [],
   "source": [
    "# Load the Random Forest CLassifier model\n",
    "\n",
    "with open(\"train_model\", \"rb\") as f:\n",
    "    classifier = pickle.load(f) \n",
    "\n",
    "with open(\"encoder\", \"rb\") as f:\n",
    "    encoder = pickle.load(f)"
   ]
  },
  {
   "cell_type": "code",
   "execution_count": 7,
   "metadata": {},
   "outputs": [],
   "source": [
    "def convert_credit(key):\n",
    "    dict={'limited':0,'unknown':0,'poor':1,'good':2,'fair':3,'excellent':4}\n",
    "    return dict[key]\n",
    "no_credit_func= lambda credit:1 if credit in (\"limited\",'unknown') else 0"
   ]
  },
  {
   "cell_type": "code",
   "execution_count": null,
   "metadata": {},
   "outputs": [],
   "source": [
    "app = Flask(__name__)\n",
    "\n",
    "@app.route('/')\n",
    "def home():\n",
    "    return render_template('index.html')"
   ]
  },
  {
   "cell_type": "code",
   "execution_count": null,
   "metadata": {},
   "outputs": [],
   "source": [
    "@app.route('/predict', methods=['POST'])\n",
    "def predict():\n",
    "    if request.method == 'POST':\n",
    "        apr = float(request.form['APR'])\n",
    "        requested = float(request.form['Requested_Amount'])\n",
    "        annual_income = float(request.form['Annual_Income'])\n",
    "        credit = str(request.form['Credit'])\n",
    "        loan_purpose = str(request.form['Loan_Purpose'])\n",
    "        \n",
    "        credit_bucket=convert_credit(credit)\n",
    "        no_credit=no_credit_func(credit)\n",
    "        loan_purpose_encoded= encoder.transform([[loan_purpose]]).toarray()\n",
    "        \n",
    "        data = np.array([[apr, requested, annual_income, no_credit, credit_bucket]])\n",
    "        data=np.concatenate((data,loan_purpose_encoded),axis=1)\n",
    "        my_prediction = classifier.predict(data)\n",
    "        print(my_prediction[0])\n",
    "        \n",
    "        return render_template('result.html', prediction=my_prediction[0])"
   ]
  },
  {
   "cell_type": "code",
   "execution_count": null,
   "metadata": {},
   "outputs": [],
   "source": [
    "if __name__ == '__main__':\n",
    "    app.run(debug=True)"
   ]
  },
  {
   "cell_type": "code",
   "execution_count": 53,
   "metadata": {},
   "outputs": [],
   "source": [
    "data=np.concatenate((np.array([[10,1500,50000,1,0]]),encoder.transform([['moving_relocation']]).toarray()),axis=1)"
   ]
  },
  {
   "cell_type": "code",
   "execution_count": 56,
   "metadata": {},
   "outputs": [
    {
     "data": {
      "text/plain": [
       "array([0], dtype=int64)"
      ]
     },
     "execution_count": 56,
     "metadata": {},
     "output_type": "execute_result"
    }
   ],
   "source": [
    "classifier.predict(data)"
   ]
  },
  {
   "cell_type": "code",
   "execution_count": 2,
   "metadata": {},
   "outputs": [
    {
     "name": "stdout",
     "output_type": "stream",
     "text": [
      "Collecting pickle\n",
      "Note: you may need to restart the kernel to use updated packages.\n"
     ]
    },
    {
     "name": "stderr",
     "output_type": "stream",
     "text": [
      "  ERROR: Could not find a version that satisfies the requirement pickle (from versions: none)\n",
      "ERROR: No matching distribution found for pickle\n"
     ]
    }
   ],
   "source": []
  }
 ],
 "metadata": {
  "kernelspec": {
   "display_name": "Python 3",
   "language": "python",
   "name": "python3"
  },
  "language_info": {
   "codemirror_mode": {
    "name": "ipython",
    "version": 3
   },
   "file_extension": ".py",
   "mimetype": "text/x-python",
   "name": "python",
   "nbconvert_exporter": "python",
   "pygments_lexer": "ipython3",
   "version": "3.7.4"
  }
 },
 "nbformat": 4,
 "nbformat_minor": 2
}
